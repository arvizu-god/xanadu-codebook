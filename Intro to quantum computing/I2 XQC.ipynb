{
 "cells": [
  {
   "cell_type": "markdown",
   "id": "51464ef1",
   "metadata": {},
   "source": [
    "Xanadu Quantum Codebook - Solutions\n",
    "\n",
    "By arvizu-god"
   ]
  },
  {
   "cell_type": "markdown",
   "id": "5220bad8",
   "metadata": {},
   "source": [
    "# I.2 Quantum Circuits\n",
    "\n",
    "Now that you've run your very first quantum algorithm, you might be wondering whether there's a cleaner way of representing things than vectors and matrix multiplication. In the next few exercises, we'll abstract away the linear algebra, and explore how to use PennyLane to implement quantum algorithms. In tandem, you'll start playing with quantum circuits.\n",
    "\n",
    "Quantum circuits are a common means of visually representing the sequence of operations that are performed on qubits during a quantum computation. They consist of a set of operations, or gates, applied to a set of qubits (or more generally, wires). Each wire in the diagram represents a qubit. Circuits are read from left to right, and this is the order in which operations are applied. Quantum circuits end in a measurement of one or more qubits. For example, the circuit below has 3 qubits that start in state $|0\\rangle$, applies 5 operations, and measures every qubit at the end.\n",
    "\n",
    "<p align=\"center\">\n",
    "(https://codebook.xanadu.ai/images/circuit_i-2-1.svg \"circuit_i-2-1\")\n",
    "</p>\n",
    "\n",
    "In PennyLane, a quantum circuit is represented by a quantum function. These are just regular Python functions, with some special properties: they must apply one or more quantum operations, and return one or more quantum measurements. Expressing quantum circuits as quantum functions allows us to represent circuits compactly, and use regular programming concepts such as subroutines (subcircuits), loops, and input parameters.\n",
    "\n",
    "Suppose we would like to write a circuit for 2 qubits. By default in PennyLane, qubits (wires) are ordered numerically starting from 0 (which corresponds to the top qubit in the circuit). In pseudocode, a quantum function looks something like this:\n",
    "\n",
    "```\n",
    "import pennylane as qml\n",
    "\n",
    "def my_quantum_function(params):\n",
    "\n",
    "    # Single-qubit operations with no input parameters\n",
    "    qml.Gate1(wires=0)\n",
    "    qml.Gate2(wires=1)\n",
    "\n",
    "    # A single-qubit operation with an input parameter\n",
    "    qml.Gate3(params[0], wires=0)\n",
    "\n",
    "    # Two-qubit operation with no input parameter on wires 0 and 1\n",
    "    qml.TwoQubitGate1(wires=[0, 1])\n",
    "\n",
    "    # Two-qubit operation with an input parameter on wires 0 and 1\n",
    "    qml.TwoQubitGate2(params[1], wires=[0, 1])\n",
    "\n",
    "    # Return the result of a measurement\n",
    "    return qml.Measurement(wires=[0, 1])\n",
    "```\n",
    "\n",
    "You can see how operations on qubits are applied one per line. Each operation indicates which qubits it acts on, and some operations also take input parameters.\n",
    "\n",
    "Tip. PennyLane uses the term wires rather than qubits because it also supports continuous-variable quantum computing, for which a wire in a circuit does not correspond to a qubit."
   ]
  },
  {
   "cell_type": "markdown",
   "id": "e02fdfee",
   "metadata": {},
   "source": [
    "## Codercise I.2.1\n",
    "\n",
    "The code below is a quantum function with all the gates from the above circuit (which we reproduce here for convenience). However, the gates are out of order! Re-arrange the lines of the function to match the order of operations in the circuit."
   ]
  },
  {
   "cell_type": "code",
   "execution_count": 1,
   "id": "a70c345a",
   "metadata": {},
   "outputs": [],
   "source": [
    "import pennylane as qml"
   ]
  },
  {
   "cell_type": "code",
   "execution_count": 2,
   "id": "5c448b24",
   "metadata": {},
   "outputs": [],
   "source": [
    "def my_circuit(theta, phi): \n",
    "    ##################\n",
    "    # YOUR CODE HERE #\n",
    "    ##################\n",
    "\n",
    "    # REORDER THESE 5 GATES TO MATCH THE CIRCUIT IN THE PICTURE\n",
    "\n",
    "    qml.CNOT(wires=[0, 1])\n",
    "    qml.RX(theta, wires=2)\n",
    "    qml.Hadamard(wires=0)\n",
    "    qml.CNOT(wires=[2, 0])\n",
    "    qml.RY(phi, wires=1)\n",
    "    \n",
    "    # This is the measurement; we return the probabilities of all possible output states\n",
    "    # You'll learn more about what types of measurements are available in a later node\n",
    "    return qml.probs(wires=[0, 1, 2])"
   ]
  },
  {
   "cell_type": "markdown",
   "id": "2b964c64",
   "metadata": {},
   "source": [
    "While quantum circuits are represented as quantum functions, a quantum function alone isn't enough to run and execute a circuit. For this we need two extra parts:\n",
    "* a device to run the circuit on\n",
    "* a QNode, which binds the circuit to the device, and executes it\n",
    "\n",
    "In this book, our devices will be quantum simulators, but PennyLane provides plugins that enable us to run on real quantum hardware as well! To construct a device in PennyLane, we need to know the name or type of the device, and the number of qubits (wires) it has:\n",
    "```\n",
    "dev = qml.device('device.name', wires=num_qubits)\n",
    "```\n",
    "In this section, we will always be using the $\\textbf{default.qubit device}$, which is a standard quantum simulator. You can also give string labels to the wires on a device.\n",
    "```\n",
    "dev = qml.device('default.qubit', wires=[\"wire_a\", \"wire_b\"])\n",
    "```\n",
    "Once we have a device, we can construct a QNode. QNodes are the main unit of quantum computation in PennyLane. There are two ways to construct a QNode from a device and a quantum function. The first, which you will see in the next exercise, is using the qml.QNode function:\n",
    "```\n",
    "my_qnode = qml.QNode(my_circuit, my_device)\n",
    "```\n",
    "Once a QNode is created, it can be called like a function using the same parameters as the quantum function upon which it's built."
   ]
  },
  {
   "cell_type": "markdown",
   "id": "5b9079c5",
   "metadata": {},
   "source": [
    "## Codercise I.2.2\n",
    "\n",
    "Complete the quantum function in the PennyLane code below to implement the following quantum circuit. We'll then construct a QNode, and run the circuit on the provided device."
   ]
  },
  {
   "cell_type": "code",
   "execution_count": 3,
   "id": "a1d91016",
   "metadata": {},
   "outputs": [
    {
     "data": {
      "text/plain": [
       "tensor([9.87560268e-01, 0.00000000e+00, 0.00000000e+00, 2.47302134e-03,\n",
       "        2.48960206e-05, 0.00000000e+00, 0.00000000e+00, 9.94181506e-03], requires_grad=True)"
      ]
     },
     "execution_count": 3,
     "metadata": {},
     "output_type": "execute_result"
    }
   ],
   "source": [
    "# This creates a device with three wires on which PennyLane can run computations\n",
    "dev = qml.device(\"default.qubit\", wires=3)\n",
    "\n",
    "\n",
    "def my_circuit(theta, phi, omega):\n",
    "\n",
    "    ##################\n",
    "    # YOUR CODE HERE #\n",
    "    ##################\n",
    "\n",
    "    # IMPLEMENT THE CIRCUIT BY ADDING THE GATES\n",
    "\n",
    "    # Here are two examples, so you can see the format:\n",
    "    qml.RX(theta, wires=0)\n",
    "    qml.RY(phi, wires=1)\n",
    "    qml.RZ(omega,wires=2)\n",
    "    qml.CNOT(wires=[0,1])\n",
    "    qml.CNOT(wires=[1,2])\n",
    "    qml.CNOT(wires=[2,0])\n",
    "\n",
    "    return qml.probs(wires=[0, 1, 2])\n",
    "\n",
    "\n",
    "# This creates a QNode, binding the function and device\n",
    "my_qnode = qml.QNode(my_circuit, dev)\n",
    "\n",
    "# We set up some values for the input parameters\n",
    "theta, phi, omega = 0.1, 0.2, 0.3\n",
    "\n",
    "# Now we can execute the QNode by calling it like we would a regular function\n",
    "my_qnode(theta, phi, omega)"
   ]
  },
  {
   "cell_type": "markdown",
   "id": "59016593",
   "metadata": {},
   "source": [
    "Tip. At this point, you might be wondering what these operations are being applied to; after all, quantum functions are simply a list of operations, and there is no quantum state present like there was in our single-qubit simulator from earlier. All the linear algebra, and maintenance of state, happens under the hood in PennyLane on the devices. This enables you to focus more on your quantum algorithm, and less on the implementation details!\n",
    "\n",
    "The second way to construct a QNode in PennyLane is using a decorator. Decorating a quantum function with @qml.qnode(dev) will automatically produce a QNode with the same name as your function that can be run on the device dev. Try it below!"
   ]
  },
  {
   "cell_type": "markdown",
   "id": "895006ed",
   "metadata": {},
   "source": [
    "## Codercise I.2.3\n",
    "\n",
    "The quantum function below implements the circuit from the previous exercise. Apply a decorator to the quantum function to construct a QNode, then run it using the provided input parameters."
   ]
  },
  {
   "cell_type": "code",
   "execution_count": 4,
   "id": "1a5659ee",
   "metadata": {},
   "outputs": [
    {
     "data": {
      "text/plain": [
       "tensor([9.87560268e-01, 0.00000000e+00, 0.00000000e+00, 2.47302134e-03,\n",
       "        2.48960206e-05, 0.00000000e+00, 0.00000000e+00, 9.94181506e-03], requires_grad=True)"
      ]
     },
     "execution_count": 4,
     "metadata": {},
     "output_type": "execute_result"
    }
   ],
   "source": [
    "dev = qml.device(\"default.qubit\", wires=3)\n",
    "\n",
    "##################\n",
    "# YOUR CODE HERE #\n",
    "##################\n",
    "@qml.qnode(dev)\n",
    "# DECORATE THE FUNCTION BELOW TO TURN IT INTO A QNODE\n",
    "\n",
    "def my_circuit(theta, phi, omega):\n",
    "    qml.RX(theta, wires=0)\n",
    "    qml.RY(phi, wires=1)\n",
    "    qml.RZ(omega, wires=2)\n",
    "    qml.CNOT(wires=[0, 1])\n",
    "    qml.CNOT(wires=[1, 2])\n",
    "    qml.CNOT(wires=[2, 0])\n",
    "    return qml.probs(wires=[0, 1, 2])\n",
    "\n",
    "\n",
    "theta, phi, omega = 0.1, 0.2, 0.3\n",
    "\n",
    "##################\n",
    "# YOUR CODE HERE #\n",
    "##################\n",
    "\n",
    "# RUN THE QNODE WITH THE PROVIDED PARAMETERS\n",
    "my_circuit(theta,phi,omega)"
   ]
  },
  {
   "cell_type": "markdown",
   "id": "a3dd224a",
   "metadata": {},
   "source": [
    "Quantum circuits are algorithms. Just like how we profile code, and study the complexity and resource requirements of regular algorithms and software, we can do the same for quantum circuits to make sure we implement them as efficiently as possible. The number of gates, and the type of gates, are useful metrics. However, one particularly important metric is that of circuit depth. Loosely, the depth is the number of time steps it takes for a circuit to run, if we do things as in-parallel as possible. Alternatively, you can think of it as the number of layers in a circuit."
   ]
  },
  {
   "cell_type": "markdown",
   "id": "c9b4ea3b",
   "metadata": {},
   "source": [
    "## Codercise I.2.4\n",
    "\n",
    "What is the depth of the circuit in the picture above?"
   ]
  },
  {
   "cell_type": "code",
   "execution_count": 5,
   "id": "14feaccd",
   "metadata": {},
   "outputs": [],
   "source": [
    "dev = qml.device(\"default.qubit\", wires=3)\n",
    "\n",
    "@qml.qnode(dev)\n",
    "def my_circuit(theta, phi, omega):\n",
    "    qml.RX(theta, wires=0)\n",
    "    qml.RY(phi, wires=1)\n",
    "    qml.RZ(omega, wires=2)\n",
    "    qml.CNOT(wires=[0, 1])\n",
    "    qml.CNOT(wires=[1, 2])\n",
    "    qml.CNOT(wires=[2, 0])\n",
    "    return qml.probs(wires=[0, 1, 2])\n",
    "\n",
    "\n",
    "##################\n",
    "# YOUR CODE HERE #\n",
    "##################\n",
    "\n",
    "# FILL IN THE CORRECT CIRCUIT DEPTH\n",
    "depth = 4"
   ]
  },
  {
   "cell_type": "markdown",
   "id": "c378d140",
   "metadata": {},
   "source": [
    "That's the end of this Xanadu's Quantum Codebook codercise I.2! See you in the next one. Goodbye!"
   ]
  }
 ],
 "metadata": {
  "kernelspec": {
   "display_name": "Python 3 (ipykernel)",
   "language": "python",
   "name": "python3"
  },
  "language_info": {
   "codemirror_mode": {
    "name": "ipython",
    "version": 3
   },
   "file_extension": ".py",
   "mimetype": "text/x-python",
   "name": "python",
   "nbconvert_exporter": "python",
   "pygments_lexer": "ipython3",
   "version": "3.9.18"
  }
 },
 "nbformat": 4,
 "nbformat_minor": 5
}
