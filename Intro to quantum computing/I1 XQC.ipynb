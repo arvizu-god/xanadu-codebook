{
 "cells": [
  {
   "cell_type": "markdown",
   "id": "71c7af3b",
   "metadata": {},
   "source": [
    "Xanadu Quantum Codebook - Solutions\n",
    "\n",
    "By arvizu-god"
   ]
  },
  {
   "cell_type": "markdown",
   "id": "879a6ec1",
   "metadata": {},
   "source": [
    "# I.1 All about qubits\n",
    "\n",
    "All modern classical computation is done using binary digits, or bits. Instead of regular bits, which take one of two values (0 or 1), quantum computing uses qubits. Qubits are physical systems that, just like bits, can exist in a \"0\" state and a \"1\" state. For now, you can think of these two states like the two sides of a coin, \"heads\" or \"tails\".\n",
    "\n",
    "Mathematically, the state of a qubit is written as a complex-valued vector with two elements. These vectors, or \"state vectors\", are denoted by the symbol $|\\cdot \\rangle\\$ , which is called a ket (this is known as Dirac notation). The qubit's \"0\" and \"1\" states are expressed as follows: $$|0 \\rangle\\=\\binom{1}{0}\\quad |1 \\rangle\\=\\binom{0}{1} $$\n",
    "The element sitting within the  is the label for that state. These two vectors might look familiar; they look just like the two basis vectors you would use for drawing vectors on a 2-dimensional plane. In fact, these two states form a basis for single-qubit states called the computational basis.\n",
    "\n",
    "As a consequence of this mathematical description, unlike a bit, a qubit is not limited to being in one of these two states. Qubits can exist in what's known as a superposition of states. A superposition is a linear combination of two basis vectors. Mathematically, $$|\\Psi \\rangle=\\alpha|0 \\rangle+\\beta|1 \\rangle=\\alpha\\binom{1}{0}+\\beta\\binom{0}{1}=\\binom{\\alpha}{\\beta}$$\n",
    "where $\\alpha$ and $\\beta$ are complex numbers. \\alpha and \\beta are called amplitudes, and for a state to be valid they must be chosen carefully to satisfy the following criteria:$$|\\alpha|^2+|\\beta|^2=\\alpha\\alpha^{*}+\\beta\\beta^{*}=1$$ where $\\alpha^{*}$ and $\\beta^{*}$ are the complex conjugates. When $\\alpha$ and $\\beta$ satisfy this property, a quantum state is called normalized. When a qubit is in a superposition, it is not in both $|0 \\rangle$ and $|1 \\rangle$ \"simultaneously\", but is rather in some intermediate combination of the two. If you consider again the analogy of a coin, if $|0 \\rangle$ and $|1 \\rangle$are \"heads\" and \"tails\", a superposition would be like a coin spinning on its edge.\n"
   ]
  },
  {
   "cell_type": "markdown",
   "id": "4269c01a",
   "metadata": {},
   "source": [
    "## Codercise I.1.1\n",
    "\n",
    "Suppose we are given an unnormalized quantum state:$$|\\Psi \\rangle=\\alpha|0 \\rangle+\\beta|1 \\rangle \\quad |\\alpha|^2+|\\beta|^2\\neq1$$ We can turn this into an equivalent, valid quantum state by normalizing it. Write a function that, given  and , normalizes this state to $$|\\Psi^{'} \\rangle=\\alpha^{'}|0 \\rangle+\\beta^{'}|1 \\rangle \\quad |\\alpha^{'}|^2+|\\beta^{'}|^2=1$$\n",
    "\n",
    "### Solution I.1.1\n",
    "\n",
    "If we have an unnormalized quantum state, we can normalize it by calculating the inner product of $|\\Psi \\rangle$: $\\langle \\Psi|\\Psi \\rangle$ and obtaining a normalization constant that we can then multiply to $\\alpha$ and $\\beta$ to obtain $\\alpha^{'}$ and $\\beta^{'}$.$$\\langle \\Psi|\\Psi \\rangle=C^2(|\\alpha|^2\\langle 0|0 \\rangle+|\\beta|^2\\langle 1|1 \\rangle)=1$$$$C=\\frac{1}{\\sqrt{|\\alpha|^2+|\\beta|^2}}$$\n",
    "The new state $|\\Psi^{'} \\rangle$ is equal to: $$|\\Psi^{'} \\rangle=\\alpha^{'}|0 \\rangle+\\beta^{'}|1 \\rangle=\\frac{\\alpha}{\\sqrt{|\\alpha|^2+|\\beta|^2}}|0 \\rangle+\\frac{\\beta}{\\sqrt{|\\alpha|^2+|\\beta|^2}}|1 \\rangle$$"
   ]
  },
  {
   "cell_type": "code",
   "execution_count": 2,
   "id": "7465e0d1",
   "metadata": {},
   "outputs": [],
   "source": [
    "import numpy as np"
   ]
  },
  {
   "cell_type": "code",
   "execution_count": 3,
   "id": "d2804dc7",
   "metadata": {},
   "outputs": [],
   "source": [
    "# Here are the vector representations of |0> and |1>, for convenience\n",
    "ket_0 = np.array([1, 0])\n",
    "ket_1 = np.array([0, 1])\n",
    "\n",
    "def normalize_state(alpha, beta):\n",
    "    \"\"\"Compute a normalized quantum state given arbitrary amplitudes.\n",
    "    \n",
    "    Args:\n",
    "        alpha (complex): The amplitude associated with the |0> state.\n",
    "        beta (complex): The amplitude associated with the |1> state.\n",
    "        \n",
    "    Returns:\n",
    "        array[complex]: A vector (numpy array) with 2 elements that represents\n",
    "        a normalized quantum state.\n",
    "    \"\"\"\n",
    "\n",
    "    ##################\n",
    "    # YOUR CODE HERE #\n",
    "    ##################\n",
    "\n",
    "    # CREATE A VECTOR [a', b'] BASED ON alpha AND beta SUCH THAT |a'|^2 + |b'|^2 = 1\n",
    "    \n",
    "    # RETURN A VECTOR\n",
    "    c=1/np.sqrt((np.abs(alpha)**2)+(np.abs(beta)**2))\n",
    "    return c*np.array([alpha,beta])"
   ]
  },
  {
   "cell_type": "code",
   "execution_count": 4,
   "id": "6e5944af",
   "metadata": {},
   "outputs": [
    {
     "data": {
      "text/plain": [
       "array([ 0.87287156+0.43643578j, -0.13093073+0.17457431j])"
      ]
     },
     "execution_count": 4,
     "metadata": {},
     "output_type": "execute_result"
    }
   ],
   "source": [
    "alpha=2.0+1.0j\n",
    "beta=-0.3 + 0.4j \n",
    "normalize_state(alpha,beta)"
   ]
  },
  {
   "cell_type": "markdown",
   "id": "faa2ee9d",
   "metadata": {},
   "source": [
    "All qubit state vectors have a dual vector, known as a bra. It is obtained by taking the conjugate transpose of the ket vector:$$\\langle\\Psi|=\\begin{pmatrix}\\alpha^{*} & \\beta^{*}\\end{pmatrix}$$\n",
    "\n",
    "Together, we can combine a bra and a ket to define an inner product. Given two states $|\\Psi \\rangle=\\alpha|0 \\rangle+\\beta|1 \\rangle$  and $|\\phi \\rangle=\\gamma|0 \\rangle+\\delta|1 \\rangle$, the inner product between them is:$$\\langle \\phi|\\Psi \\rangle=\\begin{pmatrix}\\gamma^{*} & \\delta^{*}\\end{pmatrix}\\begin{pmatrix}\\alpha^{*}\\\\ \\beta^{*}\\end{pmatrix}=\\gamma^{*}\\alpha+\\delta^{*}\\beta$$\n",
    "\n",
    "The value of the inner product is just a complex number. Loosely, this number tells us how much one state overlaps with another. States between which the inner product is 0 are called orthogonal. The maximum value of the inner product is 1, corresponding to the inner product of a normalized state with itself, $\\langle \\Psi|\\Psi \\rangle=1$."
   ]
  },
  {
   "cell_type": "markdown",
   "id": "88bc51dc",
   "metadata": {},
   "source": [
    "## Codercise I.1.2\n",
    "\n",
    "Write a function to compute the inner product between two arbitrary states. Then, use it to verify that |0 \\rangle and |1 \\rangle form an orthonormal basis, i.e., the states are normalized and orthogonal.\n",
    "\n",
    "### Solution I.1.2\n",
    "The complex conjugate for a complex number $\\alpha=x+iy$ is $\\alpha^{*}=x-iy$. If our input are two states, formed by a numpy array, the inner product between them, must be the sum of the products of the elements of our states, e.g if the first state is $\\Psi=\\binom{\\alpha}{\\beta}$ and the second state is $\\phi=\\binom{\\gamma}{\\delta}$, the inner product of $\\Psi$ and $\\phi$ is equal to:$$\\langle \\phi|\\Psi \\rangle=\\begin{pmatrix}\\gamma^{*} & \\delta^{*}\\end{pmatrix}\\begin{pmatrix}\\alpha^{*}\\\\ \\beta^{*}\\end{pmatrix}=\\gamma^{*}\\alpha+\\delta^{*}\\beta$$ where $\\gamma^{*}$ and $\\delta^{*}$ are the complex conjugates of $\\gamma$ and $\\delta$."
   ]
  },
  {
   "cell_type": "code",
   "execution_count": 10,
   "id": "0529ad28",
   "metadata": {},
   "outputs": [
    {
     "name": "stdout",
     "output_type": "stream",
     "text": [
      "<0|0> = 1\n",
      "<0|1> = 0\n",
      "<1|0> = 0\n",
      "<1|1> = 1\n"
     ]
    }
   ],
   "source": [
    "def inner_product(state_1, state_2):\n",
    "    \"\"\"Compute the inner product between two states.\n",
    "    \n",
    "    Args:\n",
    "        state_1 (array[complex]): A normalized quantum state vector\n",
    "        state_2 (array[complex]): A second normalized quantum state vector\n",
    "        \n",
    "    Returns:\n",
    "        complex: The value of the inner product <state_1 | state_2>.\n",
    "    \"\"\"\n",
    " \n",
    "    ##################\n",
    "    # YOUR CODE HERE #\n",
    "    ##################\n",
    "\n",
    "    # COMPUTE AND RETURN THE INNER PRODUCT\n",
    "    return (np.conjugate(state_1[0])*state_2[0])+(np.conjugate(state_1[1])*state_2[1])   \n",
    "\n",
    "\n",
    "# Test your results with this code\n",
    "ket_0 = np.array([1, 0])\n",
    "ket_1 = np.array([0, 1])\n",
    "\n",
    "print(f\"<0|0> = {inner_product(ket_0, ket_0)}\")\n",
    "print(f\"<0|1> = {inner_product(ket_0, ket_1)}\")\n",
    "print(f\"<1|0> = {inner_product(ket_1, ket_0)}\")\n",
    "print(f\"<1|1> = {inner_product(ket_1, ket_1)}\")"
   ]
  },
  {
   "cell_type": "code",
   "execution_count": 11,
   "id": "df4a997a",
   "metadata": {},
   "outputs": [
    {
     "name": "stdout",
     "output_type": "stream",
     "text": [
      "(0.565685424949238+0.42426406871192845j)\n"
     ]
    }
   ],
   "source": [
    "state_1 = np.array([0.8, 0.6])\n",
    "state_2 = np.array([1 / np.sqrt(2), 1j / np.sqrt(2)]) \n",
    "print(inner_product(state_1, state_2))"
   ]
  },
  {
   "cell_type": "markdown",
   "id": "0581fb68",
   "metadata": {},
   "source": [
    "Let's consider again an arbitrary state of a qubit:$$|\\Psi \\rangle=\\alpha|0 \\rangle+\\beta|1 \\rangle$$\n",
    "\n",
    "We know that $|\\alpha|^2+|\\beta|^2=\\alpha\\alpha^{*}+\\beta\\beta^{*}=1$, but why must this be the case?\n",
    "\n",
    "Quantum computing is all about manipulating states of qubits by modifying their state vectors in some way. But at the end of the day, we need to be able to extract an answer from our quantum computer: we need to be able to measure.\n",
    "\n",
    "Measurement in quantum computing is probabilistic. When we measure a qubit, we can't see that it's in a superposition; we observe the qubit either in state |0 \\rangle or state |1 \\rangle. If we think back to the coin analogy, measuring a qubit that is in superposition would be like spinning the coin on its edge, slamming your hand down over it, then checking to see whether it is \"heads\" or \"tails\".\n",
    "\n",
    "The amplitudes $\\alpha$ and $\\beta$ contain the information about the probabilities of the possible outcomes:$$\\mathbb{P}(\\text{measure}|0 \\rangle)=|\\alpha|^2$$$$\\mathbb{P}(\\text{measure}|1 \\rangle)=|\\beta|^2$$\n",
    "\n",
    "Since the qubit must be found in one of those two states, the probabilities must sum to $1$.\n",
    "\n",
    "Measuring a qubit once gets us effectively a single bit of information: which state we observed the qubit in. This doesn't tell us very much about the state, only that this particular basis state is involved in the superposition. In order to get a clearer picture, we have to measure many times, and look at the distribution of outcomes."
   ]
  },
  {
   "cell_type": "markdown",
   "id": "8b95f08b",
   "metadata": {},
   "source": [
    "## Codercise I.1.3\n",
    "\n",
    "The function below takes a quantum state vector as input. Complete the function to simulate the outcomes of an arbitrary number of quantum measurements, i.e., return a list of samples $0$ or $1$ based on the probabilities given by the input state.\n",
    "\n",
    "### Solution I.1.3\n",
    "\n",
    "If we are given a quantum state vector as input, the elements of the array are the amplitudes of the wave function that describe the system and the probabilities describe the states to which the system collapses after measuring it. Since we want to simulate a quantum measurement process, first we need to compute the probabilities for the state vector as follows:$$|\\alpha|^2=\\alpha^{*}\\alpha$$ The probabilites of the wave function mean that if we want to generate a random sample of different statex the wave function collapsed to, then the randon generator must be weighted to the state probabilities."
   ]
  },
  {
   "cell_type": "code",
   "execution_count": 13,
   "id": "2f6cdf20",
   "metadata": {},
   "outputs": [],
   "source": [
    "def measure_state(state, num_meas):\n",
    "    \"\"\"Simulate a quantum measurement process.\n",
    "\n",
    "    Args:\n",
    "        state (array[complex]): A normalized qubit state vector. \n",
    "        num_meas (int): The number of measurements to take\n",
    "        \n",
    "    Returns:\n",
    "        array[int]: A set of num_meas samples, 0 or 1, chosen according to the probability \n",
    "        distribution defined by the input state.\n",
    "    \"\"\"\n",
    "\n",
    "    ##################\n",
    "    # YOUR CODE HERE #\n",
    "    ##################\n",
    "    \n",
    "    # COMPUTE THE MEASUREMENT OUTCOME PROBABILITIES\n",
    "\n",
    "    # RETURN A LIST OF SAMPLE MEASUREMENT OUTCOMES\n",
    "    prob_vector=np.real(state*state.conj())\n",
    "    return np.random.choice(2,size=num_meas,p=prob_vector)"
   ]
  },
  {
   "cell_type": "code",
   "execution_count": 14,
   "id": "4648e6b8",
   "metadata": {},
   "outputs": [
    {
     "data": {
      "text/plain": [
       "array([1, 1, 0, 1, 1, 1, 0, 1, 0, 0, 1, 1, 0, 0, 0, 1, 0, 0, 0, 0])"
      ]
     },
     "execution_count": 14,
     "metadata": {},
     "output_type": "execute_result"
    }
   ],
   "source": [
    "state = np.array([0.8, 0.6])\n",
    "measure_state(state, 20)"
   ]
  },
  {
   "cell_type": "markdown",
   "id": "b46d7001",
   "metadata": {},
   "source": [
    "We now know how to perform the beginning and end of a quantum algorithm. We can write down the state of a qubit (in other words, \"prepare the state\"), and using the amplitudes we can simulate the outcomes of measuring it. All we're missing is the step in between: manipulating the qubit in an interesting way!\n",
    "\n",
    "Qubit states are vectors; to manipulate the vector we need something that we can apply to it that will produce another vector. Furthermore, the new vector must also be a valid, normalized quantum state. What object can we use to achieve this?\n",
    "\n",
    "Here we turn to linear algebra; quantum operations are represented as matrices. In fact, they are a special type of matrix called a unitary matrix. For some $2\\times 2$ complex-valued unitary matrix $U$, the state of the qubit after an operation is:$$|\\psi^{'} \\rangle=\\hat{U}|\\psi \\rangle$$\n",
    "\n",
    "You'll learn all about the properties of unitary matrices and some commonly used one in the upcoming nodes. For now, let's simulate the process."
   ]
  },
  {
   "cell_type": "markdown",
   "id": "ab9d9091",
   "metadata": {},
   "source": [
    "## Codercise I.1.4\n",
    "\n",
    "Complete the function below to apply the provided quantum operation $U$ to an input state.\n",
    "\n",
    "### Solution I.1.4\n",
    "We just have to perform a simple matrix product. For a product between a $2\\times 1$ row matrix and a $2\\times 2$ matrix, the result is the following:$$\\begin{pmatrix}\n",
    "a & b\n",
    "\\end{pmatrix}\n",
    "\\begin{pmatrix}\n",
    "c & d \\\\\n",
    "e & f\n",
    "\\end{pmatrix}=\\begin{pmatrix}\n",
    "ac+be & ad+bf\n",
    "\\end{pmatrix}$$\n",
    "For the matrix $$\\begin{pmatrix}\n",
    "\\frac{1}{\\sqrt{2}} & \\frac{1}{\\sqrt{2}} \\\\\n",
    "\\frac{1}{\\sqrt{2}} & -\\frac{1}{\\sqrt{2}}\n",
    "\\end{pmatrix}$$ the product is:$$\\begin{pmatrix}\n",
    "a & b\n",
    "\\end{pmatrix}\\begin{pmatrix}\n",
    "\\frac{1}{\\sqrt{2}} & \\frac{1}{\\sqrt{2}} \\\\\n",
    "\\frac{1}{\\sqrt{2}} & -\\frac{1}{\\sqrt{2}}\n",
    "\\end{pmatrix}=\\frac{1}{\\sqrt{2}}\\begin{pmatrix}a+b & a-b\\end{pmatrix}$$\n"
   ]
  },
  {
   "cell_type": "code",
   "execution_count": 15,
   "id": "6543e026",
   "metadata": {},
   "outputs": [],
   "source": [
    "U = np.array([[1, 1], [1, -1]]) / np.sqrt(2)\n",
    "\n",
    "def apply_u(state):\n",
    "    \"\"\"Apply a quantum operation.\n",
    "\n",
    "    Args:\n",
    "        state (array[complex]): A normalized quantum state vector. \n",
    "        \n",
    "    Returns:\n",
    "        array[complex]: The output state after applying U.\n",
    "    \"\"\"\n",
    "\n",
    "    ##################\n",
    "    # YOUR CODE HERE #\n",
    "    ##################\n",
    "\n",
    "    # APPLY U TO THE INPUT STATE AND RETURN THE NEW STATE\n",
    "    return 1/np.sqrt(2)*np.array([state[0]+state[1],state[0]-state[1]])"
   ]
  },
  {
   "cell_type": "markdown",
   "id": "0f44c3e1",
   "metadata": {},
   "source": [
    "You may not have realized it, but you now have all the ingredients to write a very simple quantum simulator that can simulate the outcome of running quantum algorithms on a single qubit! Let's put everything together."
   ]
  },
  {
   "cell_type": "markdown",
   "id": "dbc85159",
   "metadata": {},
   "source": [
    "## Codercise I.1.5\n",
    "\n",
    "Use the functions below to simulate a quantum algorithm that does the following:\n",
    "\n",
    "* Initialize a qubit in state $|0\\rangle$ \n",
    "* Apply the provided operation $\\hat{U}$\n",
    "* Simulate measuring the output state 100 times\n",
    "\n",
    "You'll have to complete a function for initialization, but we've provided functions for the other two."
   ]
  },
  {
   "cell_type": "code",
   "execution_count": 20,
   "id": "45802cb4",
   "metadata": {},
   "outputs": [],
   "source": [
    "U = np.array([[1, 1], [1, -1]]) / np.sqrt(2)\n",
    "\n",
    "def initialize_state():\n",
    "    \"\"\"Prepare a qubit in state |0>.\n",
    "    \n",
    "    Returns:\n",
    "        array[float]: the vector representation of state |0>.\n",
    "    \"\"\"\n",
    "\n",
    "    ##################\n",
    "    # YOUR CODE HERE #\n",
    "    ##################\n",
    "\n",
    "    # PREPARE THE STATE |0>   \n",
    "    return np.array([1,0])\n",
    "\n",
    "\n",
    "def apply_u(state):\n",
    "    \"\"\"Apply a quantum operation.\"\"\"\n",
    "    return np.dot(U, state)\n",
    "\n",
    "\n",
    "def measure_state(state, num_meas):\n",
    "    \"\"\"Measure a quantum state num_meas times.\"\"\"\n",
    "    p_alpha = np.abs(state[0]) ** 2\n",
    "    p_beta = np.abs(state[1]) ** 2\n",
    "    meas_outcome = np.random.choice([0, 1], p=[p_alpha, p_beta], size=num_meas)\n",
    "    return meas_outcome\n",
    "\n",
    "\n",
    "def quantum_algorithm():\n",
    "    \"\"\"Use the functions above to implement the quantum algorithm described above.\n",
    "    \n",
    "    Try and do so using three lines of code or less!\n",
    "    \n",
    "    Returns:\n",
    "        array[int]: the measurement results after running the algorithm 100 times\n",
    "    \"\"\"\n",
    "\n",
    "    ##################\n",
    "    # YOUR CODE HERE #\n",
    "    ##################\n",
    "\n",
    "    # PREPARE THE STATE, APPLY U, THEN TAKE 100 MEASUREMENT SAMPLES\n",
    "    return measure_state(apply_u(initialize_state()),num_meas=100)\n"
   ]
  },
  {
   "cell_type": "code",
   "execution_count": 21,
   "id": "f015ee13",
   "metadata": {},
   "outputs": [
    {
     "data": {
      "text/plain": [
       "array([0, 1, 0, 1, 0, 0, 1, 1, 1, 1, 0, 0, 1, 0, 0, 0, 1, 1, 0, 1, 1, 1,\n",
       "       0, 1, 0, 0, 1, 1, 1, 0, 1, 1, 0, 0, 1, 1, 0, 0, 0, 0, 0, 0, 1, 0,\n",
       "       1, 0, 0, 0, 1, 0, 1, 0, 1, 0, 1, 1, 0, 1, 1, 0, 0, 1, 0, 0, 1, 0,\n",
       "       1, 1, 1, 0, 1, 0, 0, 0, 1, 0, 0, 1, 1, 0, 0, 1, 0, 1, 1, 0, 1, 0,\n",
       "       0, 1, 0, 0, 1, 0, 0, 1, 0, 1, 0, 1])"
      ]
     },
     "execution_count": 21,
     "metadata": {},
     "output_type": "execute_result"
    }
   ],
   "source": [
    "quantum_algorithm()"
   ]
  },
  {
   "cell_type": "markdown",
   "id": "4d7c6e84",
   "metadata": {},
   "source": [
    "That's the end of this Xanadu's Quantum Codebook codercise I.1! See you in the next one. Goodbye!"
   ]
  }
 ],
 "metadata": {
  "kernelspec": {
   "display_name": "Python 3 (ipykernel)",
   "language": "python",
   "name": "python3"
  },
  "language_info": {
   "codemirror_mode": {
    "name": "ipython",
    "version": 3
   },
   "file_extension": ".py",
   "mimetype": "text/x-python",
   "name": "python",
   "nbconvert_exporter": "python",
   "pygments_lexer": "ipython3",
   "version": "3.9.18"
  }
 },
 "nbformat": 4,
 "nbformat_minor": 5
}
