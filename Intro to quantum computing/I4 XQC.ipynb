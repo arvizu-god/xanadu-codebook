{
 "cells": [
  {
   "cell_type": "markdown",
   "id": "92fd6d81",
   "metadata": {},
   "source": [
    "Xanadu Quantum Codebook - Solutions\n",
    "\n",
    "By arvizu-god"
   ]
  },
  {
   "cell_type": "markdown",
   "id": "c8f3a776",
   "metadata": {},
   "source": [
    "# I.4 X and H"
   ]
  },
  {
   "cell_type": "markdown",
   "id": "1d148e35",
   "metadata": {},
   "source": [
    "## Codercise I.4.1\n",
    "\n",
    "A common use of the $X$ gate is in initializing the state of a qubit at the beginning of an algorithm. Quite often, we would like our qubits to start in state $|0\\rangle$ (which is the default in PennyLane), however there are many cases where we instead would like to start from $|1\\rangle$. Complete the function below by using qml.PauliX to initialize the qubit's state to $|0\\rangle$ or $|1\\rangle$ based on an input flag. Then, use qml.QubitUnitary to apply the provided U."
   ]
  },
  {
   "cell_type": "code",
   "execution_count": 3,
   "id": "30dfe305",
   "metadata": {},
   "outputs": [],
   "source": [
    "import pennylane as qml\n",
    "import numpy as np"
   ]
  },
  {
   "cell_type": "code",
   "execution_count": 4,
   "id": "120788b2",
   "metadata": {},
   "outputs": [],
   "source": [
    "dev = qml.device(\"default.qubit\", wires=1)\n",
    "\n",
    "U = np.array([[1, 1], [1, -1]]) / np.sqrt(2)\n",
    "\n",
    "@qml.qnode(dev)\n",
    "def varied_initial_state(state):\n",
    "    \"\"\"Complete the function such that we can apply the operation U to\n",
    "    either |0> or |1> depending on the input argument flag.\n",
    "    \n",
    "    Args:\n",
    "        state (int): Either 0 or 1. If 1, prepare the qubit in state |1>,\n",
    "            otherwise, leave it in state 0.\n",
    "  \n",
    "    Returns:\n",
    "        array[complex]: The state of the qubit after the operations.\n",
    "    \"\"\"\n",
    "    ##################\n",
    "    # YOUR CODE HERE #\n",
    "    ##################\n",
    "\n",
    "    # KEEP THE QUBIT IN |0> OR CHANGE IT TO |1> DEPENDING ON THE state PARAMETER\n",
    "\n",
    "    if state == 1:\n",
    "        qml.PauliX(wires = 0)\n",
    "    # APPLY U TO THE STATE\n",
    "    qml.QubitUnitary(U, wires = 0)\n",
    "    return qml.state()\n"
   ]
  },
  {
   "cell_type": "markdown",
   "id": "0e5cdbac",
   "metadata": {},
   "source": [
    "## Codercise I.4.2\n",
    "\n",
    "What do you think is meant by uniform superposition? Let's explore this using PennyLane. Complete the quantum function below such that it:\n",
    "\n",
    "* applies a Hadamard gate to the qubit,\n",
    "* returns the state of the qubit with qml.state."
   ]
  },
  {
   "cell_type": "code",
   "execution_count": 5,
   "id": "bc48823a",
   "metadata": {},
   "outputs": [],
   "source": [
    "dev = qml.device(\"default.qubit\", wires=1)\n",
    "\n",
    "@qml.qnode(dev)\n",
    "def apply_hadamard():\n",
    "    ##################\n",
    "    # YOUR CODE HERE #\n",
    "    ##################\n",
    "\n",
    "    # APPLY THE HADAMARD GATE\n",
    "    qml.Hadamard(wires=0)\n",
    "    # RETURN THE STATE\n",
    "    return qml.state()"
   ]
  },
  {
   "cell_type": "markdown",
   "id": "7254e48c",
   "metadata": {},
   "source": [
    "## Codercise I.4.3\n",
    "\n",
    "Combining your code from codercises I.4.1, and I.4.2, apply the Hadamard gate to both $|0\\rangle$ and $|1\\rangle$. What do the two different output states look like? Do you notice anything special about them?"
   ]
  },
  {
   "cell_type": "code",
   "execution_count": 6,
   "id": "f5f74dd9",
   "metadata": {},
   "outputs": [
    {
     "name": "stdout",
     "output_type": "stream",
     "text": [
      "[0.70710678+0.j 0.70710678+0.j]\n",
      "[ 0.70710678+0.j -0.70710678+0.j]\n"
     ]
    }
   ],
   "source": [
    "dev = qml.device(\"default.qubit\", wires=1)\n",
    "\n",
    "@qml.qnode(dev)\n",
    "def apply_hadamard_to_state(state):\n",
    "    \"\"\"Complete the function such that we can apply the Hadamard to\n",
    "    either |0> or |1> depending on the input argument flag.\n",
    "    \n",
    "    Args:\n",
    "        state (int): Either 0 or 1. If 1, prepare the qubit in state |1>,\n",
    "            otherwise, leave it in state 0.\n",
    "    \n",
    "    Returns:\n",
    "        array[complex]: The state of the qubit after the operations.\n",
    "    \"\"\"\n",
    "    ##################\n",
    "    # YOUR CODE HERE #\n",
    "    ##################\n",
    "\n",
    "    # KEEP THE QUBIT IN |0> OR CHANGE IT TO |1> DEPENDING ON state\n",
    "    if state==1:\n",
    "        qml.PauliX(wires=0)\n",
    "    # APPLY THE HADAMARD\n",
    "    qml.Hadamard(wires=0)\n",
    "    # RETURN THE STATE\n",
    "\n",
    "    return qml.state()\n",
    "\n",
    "print(apply_hadamard_to_state(0))\n",
    "print(apply_hadamard_to_state(1))"
   ]
  },
  {
   "cell_type": "markdown",
   "id": "2ee3a6bf",
   "metadata": {},
   "source": [
    "## Codercise I.4.4\n",
    "\n",
    "Now let's combine what we've just learned. Create a device with one qubit. Then, write a QNode (from scratch!) that applies the following circuit and returns the state.\n",
    "\n",
    "\n",
    "Determine its effect on the two basis states. What do you think this operation does? (We'll discuss this further in the next node).\n",
    "\n",
    "The signature of your function should be:\n",
    "```\n",
    "def apply_hxh(state):\n",
    "    ...\n",
    "    return qml.state()\n",
    "```\n",
    "where as in the previous exercises, state is an integer that indicates which basis state to prepare."
   ]
  },
  {
   "cell_type": "code",
   "execution_count": 7,
   "id": "19d2ae63",
   "metadata": {},
   "outputs": [
    {
     "name": "stdout",
     "output_type": "stream",
     "text": [
      "[1.+0.j 0.+0.j]\n",
      "[ 0.+0.j -1.+0.j]\n"
     ]
    }
   ],
   "source": [
    "##################\n",
    "# YOUR CODE HERE #\n",
    "##################\n",
    "\n",
    "# CREATE A DEVICE\n",
    "dev=qml.device(\"default.qubit\",wires=1)\n",
    "@qml.qnode(dev)\n",
    "\n",
    "# CREATE A QNODE CALLED apply_hxh THAT APPLIES THE CIRCUIT ABOVE\n",
    "def apply_hxh(state):\n",
    "    if state==1:\n",
    "        qml.PauliX(wires=0)\n",
    "    qml.Hadamard(wires=0)\n",
    "    qml.PauliX(wires=0)\n",
    "    qml.Hadamard(wires=0)\n",
    "# Print your results\n",
    "    return qml.state()\n",
    "print(apply_hxh(0))\n",
    "print(apply_hxh(1))\n"
   ]
  },
  {
   "cell_type": "markdown",
   "id": "4dc91093",
   "metadata": {},
   "source": [
    "That's the end of this Xanadu's Quantum Codebook codercise I.4! See you in the next one. Goodbye!"
   ]
  }
 ],
 "metadata": {
  "kernelspec": {
   "display_name": "Python 3 (ipykernel)",
   "language": "python",
   "name": "python3"
  },
  "language_info": {
   "codemirror_mode": {
    "name": "ipython",
    "version": 3
   },
   "file_extension": ".py",
   "mimetype": "text/x-python",
   "name": "python",
   "nbconvert_exporter": "python",
   "pygments_lexer": "ipython3",
   "version": "3.9.18"
  }
 },
 "nbformat": 4,
 "nbformat_minor": 5
}
