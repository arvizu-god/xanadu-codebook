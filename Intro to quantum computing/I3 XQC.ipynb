{
 "cells": [
  {
   "cell_type": "markdown",
   "id": "de59f848",
   "metadata": {},
   "source": [
    "Xanadu Quantum Codebook - Solutions\n",
    "\n",
    "By arvizu-god"
   ]
  },
  {
   "cell_type": "markdown",
   "id": "e9b28312",
   "metadata": {},
   "source": [
    "# I.3 Unitary Matrices\n",
    "\n",
    "Earlier, we learned that performing quantum operations involves multiplication by matrices that send valid, normalized quantum states to other normalized quantum states. We even saw an example,$$U=\\frac{1}{\\sqrt{2}}\\begin{pmatrix}\n",
    "1 & 1 \\\\\n",
    "1 & -1\n",
    "\\end{pmatrix}$$\n",
    "\n",
    "Surely, such matrices have some special properties in order to work properly on quantum states. These matrices are called unitary. Unitary matrices are complex-valued matrices with the property that $UU^{\\dagger}\n",
    "=U^{\\dagger}U=I_{n}$, where $I_{n}$ is the $n$-dimensional identity matrix. $U^{\\dagger}$ is the notation for the conjugate transpose of  (i.e., take the transpose of the matrix, and replace each entry with its complex conjugate).\n",
    "\n",
    "In PennyLane, unitary operations specified by a matrix can be implemented in a quantum circuit using the QubitUnitary operation. QubitUnitary is a parametrized gate, and can be called like so:\n",
    "```\n",
    "qml.QubitUnitary(U, wires=wire)\n",
    "```"
   ]
  },
  {
   "cell_type": "markdown",
   "id": "01f9ab04",
   "metadata": {},
   "source": [
    "## Codercise I.3.1\n",
    "\n",
    "Complete the quantum function below to create a circuit that applies U to the qubit and returns its state. (Compare this to the earlier function apply_u that you wrote - isn't it nice to not have to worry about the matrix arithmetic?)"
   ]
  },
  {
   "cell_type": "code",
   "execution_count": null,
   "id": "d6fd033a",
   "metadata": {},
   "outputs": [],
   "source": [
    "import pennylane as qml"
   ]
  },
  {
   "cell_type": "code",
   "execution_count": null,
   "id": "cab885b7",
   "metadata": {},
   "outputs": [],
   "source": [
    "dev = qml.device(\"default.qubit\", wires=1)\n",
    "\n",
    "U = np.array([[1, 1], [1, -1]]) / np.sqrt(2)\n",
    "\n",
    "@qml.qnode(dev)\n",
    "def apply_u():\n",
    "\n",
    "    ##################\n",
    "    # YOUR CODE HERE #\n",
    "    ##################\n",
    "\n",
    "    # USE QubitUnitary TO APPLY U TO THE QUBIT\n",
    "    qml.QubitUnitary(U,wires=0)\n",
    "\n",
    "\n",
    "    # Return the state\n",
    "    return qml.state()"
   ]
  },
  {
   "cell_type": "markdown",
   "id": "513a93cd",
   "metadata": {},
   "source": [
    "Since unitary matrices have such special properties, you might be wondering if there is a more prescribed way to construct them. It is hard to write down a unitary matrix arbitrarily at random, element by element. Fortunately, unitary matrices can be parametrized. A single-qubit unitary operation can be expressed in terms of just three real numbers:$$U(\\theta,\\phi,\\omega)=\\begin{pmatrix}\n",
    "e^{-i(\\phi+\\omega)/2}\\cos(\\theta/2) & -e^{i(\\phi-\\omega)/2}\\sin(\\theta/2) \\\\\n",
    "e^{-i(\\phi-\\omega)/2}\\sin(\\theta/2) & e^{i(\\phi+\\omega)/2}\\cos(\\theta/2)\n",
    "\\end{pmatrix}$$\n",
    "In PennyLane, this parametrized operation is implemented as a gate called Rot. Rot takes three parameters, which are precisely the angles in the formula above:\n",
    "```\n",
    "qml.Rot(phi, theta, omega, wires=wire)\n",
    "```"
   ]
  },
  {
   "cell_type": "markdown",
   "id": "48e8fdd4",
   "metadata": {},
   "source": [
    "## Codercise I.3.2\n",
    "\n",
    "Apply the Rot operation to a qubit using the input parameters. Then, complete the QNode to return the quantum state vector, using qml.state()."
   ]
  },
  {
   "cell_type": "code",
   "execution_count": null,
   "id": "aaf0bb24",
   "metadata": {},
   "outputs": [],
   "source": [
    "dev = qml.device(\"default.qubit\", wires=1)\n",
    "\n",
    "@qml.qnode(dev)\n",
    "def apply_u_as_rot(phi, theta, omega):\n",
    "\n",
    "    ##################\n",
    "    # YOUR CODE HERE #\n",
    "    ##################\n",
    "    \n",
    "    # APPLY A ROT GATE USING THE PROVIDED INPUT PARAMETERS\n",
    "    \n",
    "    # RETURN THE QUANTUM STATE VECTOR\n",
    "\n",
    "    qml.Rot(phi,theta,omega,wires=0)\n",
    "    return qml.state()"
   ]
  },
  {
   "cell_type": "markdown",
   "id": "1dee1ccb",
   "metadata": {},
   "source": [
    "While it is much easier to specify a few numbers than a matrix, this description of a unitary is still not the most intuitive. For every unitary operation you want to implement you would first have to compute its three parameters, which would be tedious. Thankfully, many quantum algorithms are based on a small set of known unitary matrices which we will call directly by name. In the next few sections, we'll explore this family of single-qubit gates."
   ]
  },
  {
   "cell_type": "markdown",
   "id": "8b9bd9db",
   "metadata": {},
   "source": [
    "That's the end of this Xanadu's Quantum Codebook codercise I.3! See you in the next one. Goodbye!"
   ]
  }
 ],
 "metadata": {
  "kernelspec": {
   "display_name": "Python 3 (ipykernel)",
   "language": "python",
   "name": "python3"
  },
  "language_info": {
   "codemirror_mode": {
    "name": "ipython",
    "version": 3
   },
   "file_extension": ".py",
   "mimetype": "text/x-python",
   "name": "python",
   "nbconvert_exporter": "python",
   "pygments_lexer": "ipython3",
   "version": "3.9.18"
  }
 },
 "nbformat": 4,
 "nbformat_minor": 5
}
